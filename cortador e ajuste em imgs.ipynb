{
 "cells": [
  {
   "cell_type": "markdown",
   "metadata": {},
   "source": [
    "Cortar a parte inferior da imagem"
   ]
  },
  {
   "cell_type": "code",
   "execution_count": 8,
   "metadata": {},
   "outputs": [
    {
     "name": "stdout",
     "output_type": "stream",
     "text": [
      "Imagem cortada com sucesso.\n"
     ]
    }
   ],
   "source": [
    "from PIL import Image\n",
    "\n",
    "# Abrir a imagem\n",
    "imagem = Image.open('imgs/ATM6C64___.png')\n",
    "\n",
    "# Definir a área de corte (esquerda, superior, direita, inferior)\n",
    "largura, altura = imagem.size\n",
    "caixa_corte = (30, 30, largura - 30, altura - 115)  # Corta 10px da esquerda e direita, mantém superior e inferior ajustados\n",
    "\n",
    "# Cortar a imagem\n",
    "imagem_cortada = imagem.crop(caixa_corte)\n",
    "\n",
    "# Salvar a nova imagem sem perder a qualidade\n",
    "imagem_cortada.save('Cortadas/ATM6C64___.png', quality=100)\n",
    "\n",
    "print(\"Imagem cortada com sucesso.\")\n"
   ]
  },
  {
   "cell_type": "markdown",
   "metadata": {},
   "source": [
    "Corta varias imagens de uma vez da pasta imgs, e ajusta \n",
    "\n",
    "35: Distância da borda esquerda (x) do retângulo de recorte para o lado direito.\n",
    "40: Distância do topo (y) do retângulo de recorte para baixo.\n",
    "largura - 30: Distância do lado direito do retângulo até a borda esquerda. Isso significa que o recorte vai terminar 30 pixels antes do final da largura total da imagem.\n",
    "altura - 125: Distância da base do retângulo até o topo da imagem. O recorte vai parar 125 pixels antes do final da altura total da imagem."
   ]
  },
  {
   "cell_type": "code",
   "execution_count": 9,
   "metadata": {},
   "outputs": [
    {
     "name": "stdout",
     "output_type": "stream",
     "text": [
      "Imagem ATM6C64___.png cortada e salva com sucesso.\n",
      "Imagem AVC9A14___.png cortada e salva com sucesso.\n",
      "Imagem AYZ2C40___.png cortada e salva com sucesso.\n",
      "Imagem BAP2J15___.png cortada e salva com sucesso.\n",
      "Imagem BAZ9G57___.png cortada e salva com sucesso.\n",
      "Imagem BBT7E47___.png cortada e salva com sucesso.\n",
      "Imagem BMW-3534___.png cortada e salva com sucesso.\n",
      "Imagem BWD-3882___.png cortada e salva com sucesso.\n",
      "Imagem BWD3G55___.png cortada e salva com sucesso.\n",
      "Imagem BWG-6124___.png cortada e salva com sucesso.\n",
      "Imagem CLU-5402___.png cortada e salva com sucesso.\n",
      "Imagem CUD-8748___.png cortada e salva com sucesso.\n",
      "Imagem DBC-1030___.png cortada e salva com sucesso.\n",
      "Imagem DJB7H89___.png cortada e salva com sucesso.\n",
      "Imagem DPF-0546___.png cortada e salva com sucesso.\n",
      "Imagem EFO0B60___.png cortada e salva com sucesso.\n",
      "Imagem EGJ-4025___.png cortada e salva com sucesso.\n",
      "Imagem EGJ-4519___.png cortada e salva com sucesso.\n",
      "Imagem EGK-8220___.png cortada e salva com sucesso.\n",
      "Imagem ELA5H84___.png cortada e salva com sucesso.\n",
      "Imagem ETU-8416___.png cortada e salva com sucesso.\n",
      "Imagem EVB-8911___.png cortada e salva com sucesso.\n",
      "Imagem EVE-2408___.png cortada e salva com sucesso.\n",
      "Imagem EZU9A94___.png cortada e salva com sucesso.\n",
      "Imagem FFW0C85___.png cortada e salva com sucesso.\n",
      "Imagem FIJ2J26___.png cortada e salva com sucesso.\n",
      "Imagem FJD-5292___.png cortada e salva com sucesso.\n",
      "Imagem FOP6A93___.png cortada e salva com sucesso.\n",
      "Imagem FRL-5153___.png cortada e salva com sucesso.\n",
      "Imagem FSO-1360___.png cortada e salva com sucesso.\n",
      "Imagem FXS8B23___.png cortada e salva com sucesso.\n",
      "Imagem GAO3G83___.png cortada e salva com sucesso.\n",
      "Imagem GEM-2888___.png cortada e salva com sucesso.\n",
      "Imagem GQB-5123___.png cortada e salva com sucesso.\n",
      "Imagem HRO4D06___.png cortada e salva com sucesso.\n",
      "Imagem ISH-0400___.png cortada e salva com sucesso.\n",
      "Imagem JAU3G00___.png cortada e salva com sucesso.\n",
      "Imagem NYD4G83___.png cortada e salva com sucesso.\n",
      "Imagem OOM9C36___.png cortada e salva com sucesso.\n",
      "Imagem QTR9J03___.png cortada e salva com sucesso.\n",
      "Imagem RKO8C85___.png cortada e salva com sucesso.\n",
      "Imagem RNQ8J12___.png cortada e salva com sucesso.\n",
      "Imagem RTZ8H34___.png cortada e salva com sucesso.\n",
      "Imagem SCS4A96___.png cortada e salva com sucesso.\n",
      "Imagem SCZ6F53___.png cortada e salva com sucesso.\n",
      "Imagem SDI1A63___.png cortada e salva com sucesso.\n",
      "Imagem SKB2C56___.png cortada e salva com sucesso.\n",
      "Imagem SLE0J33___.png cortada e salva com sucesso.\n",
      "Imagem STB9184__ERRO_.png cortada e salva com sucesso.\n",
      "Imagem SWC8F73___.png cortada e salva com sucesso.\n"
     ]
    }
   ],
   "source": [
    "\n",
    "\n",
    "import os\n",
    "from PIL import Image\n",
    "\n",
    "# Caminho das pastas\n",
    "pasta_entrada = 'imgs'\n",
    "pasta_saida = 'Cortadas'\n",
    "\n",
    "# Certificar que a pasta de saída existe\n",
    "if not os.path.exists(pasta_saida):\n",
    "    os.makedirs(pasta_saida)\n",
    "\n",
    "# Processar todas as imagens da pasta 'Resultado'\n",
    "for arquivo in os.listdir(pasta_entrada):\n",
    "    if arquivo.endswith(('.png', '.jpg', '.jpeg')):  # Extensões de imagem que você quer processar\n",
    "        caminho_imagem = os.path.join(pasta_entrada, arquivo)\n",
    "\n",
    "        # Abrir a imagem\n",
    "        imagem = Image.open(caminho_imagem)\n",
    "\n",
    "        # Definir a área de corte (esquerda, superior, direita, inferior)\n",
    "        largura, altura = imagem.size\n",
    "        caixa_corte = (35, 40, largura - 30, altura - 125)  # Ajuste conforme necessário\n",
    "\n",
    "        # Cortar a imagem\n",
    "        imagem_cortada = imagem.crop(caixa_corte)\n",
    "\n",
    "        # Caminho para salvar a imagem cortada\n",
    "        caminho_salvar = os.path.join(pasta_saida, arquivo)\n",
    "\n",
    "        # Salvar a nova imagem sem perder a qualidade\n",
    "        imagem_cortada.save(caminho_salvar, quality=100)\n",
    "\n",
    "        print(f\"Imagem {arquivo} cortada e salva com sucesso.\")\n",
    "\n"
   ]
  },
  {
   "cell_type": "markdown",
   "metadata": {},
   "source": [
    "Juntar todas as imgs em uma só"
   ]
  },
  {
   "cell_type": "code",
   "execution_count": 10,
   "metadata": {},
   "outputs": [
    {
     "name": "stdout",
     "output_type": "stream",
     "text": [
      "Juntado tudo\n"
     ]
    }
   ],
   "source": [
    "\n",
    "from PIL import Image\n",
    "import os\n",
    "import math\n",
    "\n",
    "# Definindo as pastas de entrada e saída\n",
    "pasta_entrada = 'imgs'\n",
    "pasta_saida = 'Juntar tudo'\n",
    "\n",
    "# Configurações\n",
    "imagens_por_linha = 5\n",
    "\n",
    "# Listando todas as imagens na pasta de entrada\n",
    "imagens = [Image.open(os.path.join(pasta_entrada, arquivo)) for arquivo in os.listdir(pasta_entrada) if arquivo.endswith(('png', 'jpg', 'jpeg'))]\n",
    "\n",
    "# Pegando a largura e a altura máxima das imagens\n",
    "largura_maxima = max(img.size[0] for img in imagens)\n",
    "altura_maxima = max(img.size[1] for img in imagens)\n",
    "\n",
    "# Calculando o tamanho da imagem final sem margem\n",
    "largura_final = imagens_por_linha * largura_maxima\n",
    "altura_final = math.ceil(len(imagens) / imagens_por_linha) * altura_maxima\n",
    "\n",
    "# Criando a nova imagem em branco com o tamanho adequado\n",
    "imagem_final = Image.new('RGB', (largura_final, altura_final), (255, 255, 255))\n",
    "\n",
    "# Colocando as imagens organizadas em linhas e colunas sem margem\n",
    "for index, img in enumerate(imagens):\n",
    "    linha_atual = index // imagens_por_linha\n",
    "    coluna_atual = index % imagens_por_linha\n",
    "    x_offset = coluna_atual * largura_maxima\n",
    "    y_offset = linha_atual * altura_maxima\n",
    "    imagem_final.paste(img, (x_offset, y_offset))\n",
    "\n",
    "# Salvando a imagem final\n",
    "imagem_final.save(os.path.join(pasta_saida, 'imagem_juntada_sem_margem.jpg'))\n",
    "\n",
    "print(\"Juntado tudo\")\n"
   ]
  }
 ],
 "metadata": {
  "kernelspec": {
   "display_name": "Python 3",
   "language": "python",
   "name": "python3"
  },
  "language_info": {
   "codemirror_mode": {
    "name": "ipython",
    "version": 3
   },
   "file_extension": ".py",
   "mimetype": "text/x-python",
   "name": "python",
   "nbconvert_exporter": "python",
   "pygments_lexer": "ipython3",
   "version": "3.12.2"
  }
 },
 "nbformat": 4,
 "nbformat_minor": 2
}
